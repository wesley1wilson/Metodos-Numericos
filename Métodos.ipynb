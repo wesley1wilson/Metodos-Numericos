{
  "cells": [
    {
      "cell_type": "markdown",
      "metadata": {
        "id": "IQsIvN5EjJ5o"
      },
      "source": [
        "# <center>__MÉTODOS NUMÉRICOS__</center>\n",
        "## <center>__PROJETO DA UNIDADE 2__</center>\n",
        "#### <center>__Equipe: João Marcos e Wesley Wilson__</center>"
      ]
    },
    {
      "cell_type": "markdown",
      "metadata": {
        "id": "xIZlLfWEjJ5q"
      },
      "source": [
        "<div class=\"alert alert-block alert-info\">\n",
        "1. INTRODUÇÃO\n",
        "</div>"
      ]
    },
    {
      "cell_type": "markdown",
      "metadata": {
        "id": "1lS-U7ymjJ5q"
      },
      "source": [
        "Sistemas de recomendação tornaram-se fundamentais para ajudar usuários a descobrirem novos conteúdos em meio à vasta oferta digital. No contexto dos jogos, essas ferramentas podem sugerir títulos alinhados aos gostos individuais, aumentando o engajamento e a satisfação do jogador.\n",
        "\n",
        "Nossa abordagem se baseia em duas técnicas principais de álgebra linear e processamento de dados. A primeira é a **filtragem colaborativa** através da **Decomposição de Valores Singulares (SVD)**, um método de fatoração matricial que nos permite encontrar padrões latentes nas avaliações dos usuários. A segunda é a **filtragem baseada em conteúdo**, onde usamos a **similaridade de cossenos** para recomendar jogos com base em suas características, como gênero e nome. Por fim, combinamos essas abordagens em um sistema híbrido para fornecer recomendações mais robustas e solucionar desafios como o problema de *cold start*.\n"
      ]
    },
    {
      "cell_type": "markdown",
      "metadata": {
        "id": "wfBpRrJ_jJ5q"
      },
      "source": [
        "<div class=\"alert alert-block alert-info\">\n",
        "2. DESCRIÇÃO DO PROBLEMA\n",
        "</div>"
      ]
    },
    {
      "cell_type": "markdown",
      "source": [
        "O objetivo central deste projeto é desenvolver um sistema de recomendação de jogos para a plataforma PC. O sistema deve ser capaz de gerar sugestões personalizadas com base no histórico de avaliações de cada usuário, bem como encontrar jogos similares a um título específico.\n",
        "\n",
        "Para isso, enfrentamos desafios inerentes a sistemas de recomendação:\n",
        "- **Esparsidade da Matriz:** A maioria dos usuários avalia apenas uma pequena fração dos jogos disponíveis, resultando em uma matriz de utilidade (usuário-jogo) extremamente esparsa.\n",
        "- **Cold Start:** O sistema precisa lidar com novos usuários (que ainda não avaliaram nada) ou novos jogos (que ainda não receberam avaliações).\n",
        "- **Escalabilidade:** A solução deve ser computacionalmente viável, mesmo com um grande número de usuários e jogos."
      ],
      "metadata": {
        "id": "uUfrLh7ovGSM"
      }
    },
    {
      "cell_type": "markdown",
      "metadata": {
        "id": "B2naUjN2jJ5r"
      },
      "source": [
        "<div class=\"alert alert-block alert-info\">\n",
        "3. MÉTODOS APLICADOS À SOLUÇÃO\n",
        "</div>"
      ]
    },
    {
      "cell_type": "markdown",
      "metadata": {
        "id": "o43ATAhJjJ5r"
      },
      "source": [
        "Para resolver o problema, empregamos uma abordagem híbrida que combina os pontos fortes de diferentes métodos numéricos:\n",
        "\n",
        "1.  **Filtragem Colaborativa com SVD:** Este método se baseia na ideia de que usuários com gostos similares no passado tenderão a ter gostos similares no futuro. Construímos uma matriz de utilidade $A$, onde as linhas representam usuários, as colunas representam jogos e os valores são as avaliações. Como essa matriz é esparsa, usamos a **Decomposição de Valores Singulares (SVD)** para decompô-la em três matrizes: $A = U \\Sigma V^T$. A SVD nos ajuda a encontrar fatores latentes (conceitos abstratos como \"jogos de mundo aberto com boa narrativa\" ou \"RPGs de ação intensa\") e a preencher as avaliações ausentes na matriz original, permitindo-nos prever a nota que um usuário daria a um jogo que ele ainda não jogou.\n",
        "\n",
        "2.  **Filtragem Baseada em Conteúdo:** Este método recomenda itens com base em suas características. Criamos um perfil para cada jogo, combinando seu nome e gêneros em uma \"sopa de características\". Usamos a técnica **TF-IDF (Term Frequency-Inverse Document Frequency)** para vetorizar esse texto, convertendo as características em um espaço vetorial. Em seguida, calculamos a **similaridade de cossenos** entre os vetores de todos os jogos. O resultado é uma matriz de similaridade que nos diz o quão parecido um jogo é do outro, permitindo-nos recomendar títulos similares a um que o usuário já gostou. Este método é especialmente útil para resolver o problema de *cold start* para novos jogos.\n",
        "\n",
        "3.  **Estratégia de Popularidade (para *Cold Start* de Usuário):** Para novos usuários sem histórico de avaliações, os métodos acima não funcionam. Nesse caso, adotamos uma estratégia simples e eficaz: recomendar os jogos mais populares e bem avaliados, combinando dados da IGDB e da Steam. Isso serve como um ponto de partida seguro para que o novo usuário comece a interagir com o sistema.\n"
      ]
    },
    {
      "cell_type": "markdown",
      "metadata": {
        "id": "Jx4vntKUjJ5r"
      },
      "source": [
        "<div class=\"alert alert-block alert-info\">\n",
        "4. IMPLEMENTAÇÃO\n",
        "</div>"
      ]
    },
    {
      "cell_type": "markdown",
      "source": [
        "#### 4.1. Configuração Inicial e Coleta de Dados"
      ],
      "metadata": {
        "id": "r9ovnaYF2xvS"
      }
    },
    {
      "cell_type": "code",
      "execution_count": null,
      "metadata": {
        "id": "WeKlpF6YjJ5r"
      },
      "outputs": [],
      "source": [
        "import requests\n",
        "import pandas as pd\n",
        "import numpy as np\n",
        "from scipy.sparse import csc_matrix\n",
        "from scipy.sparse.linalg import svds\n",
        "from sklearn.metrics import mean_squared_error\n",
        "from sklearn.feature_extraction.text import TfidfVectorizer\n",
        "from sklearn.metrics.pairwise import cosine_similarity\n",
        "\n",
        "CLIENT_ID = 'Insira o Client ID aqui'\n",
        "CLIENT_SECRET = 'Insira o Client Secret aqui'"
      ]
    },
    {
      "cell_type": "code",
      "execution_count": null,
      "metadata": {
        "colab": {
          "base_uri": "https://localhost:8080/"
        },
        "id": "Tdz5E6l7jJ5s",
        "outputId": "1a393168-fa2a-45b3-dcda-bbb424a89dce"
      },
      "outputs": [
        {
          "output_type": "stream",
          "name": "stdout",
          "text": [
            "Autenticação com a API da IGDB bem-sucedida.\n"
          ]
        }
      ],
      "source": [
        "try:\n",
        "    auth_url = 'https://id.twitch.tv/oauth2/token'\n",
        "    payload = {'client_id': CLIENT_ID, 'client_secret': CLIENT_SECRET, 'grant_type': 'client_credentials'}\n",
        "    resp = requests.post(auth_url, data=payload)\n",
        "    resp.raise_for_status() # Lança um erro para status HTTP ruins (4xx ou 5xx)\n",
        "    token = resp.json().get('access_token')\n",
        "    if not token:\n",
        "        raise ValueError(\"Token de acesso não foi obtido. Verifique as variáveis CLIENT_ID e CLIENT_SECRET.\")\n",
        "    headers_igdb = {'Client-ID': CLIENT_ID, 'Authorization': f'Bearer {token}'}\n",
        "    print(\"Autenticação com a API da IGDB bem-sucedida.\")\n",
        "except (requests.exceptions.RequestException, ValueError) as e:\n",
        "    print(f\"Erro na autenticação IGDB: {e}\")\n",
        "    # Encerra o script se a autenticação falhar, pois os passos seguintes dependem dela\n",
        "    exit()"
      ]
    },
    {
      "cell_type": "code",
      "execution_count": null,
      "metadata": {
        "colab": {
          "base_uri": "https://localhost:8080/"
        },
        "id": "RUAAj840jJ5s",
        "outputId": "48f2f48f-59d1-402f-966c-ac494921c473"
      },
      "outputs": [
        {
          "output_type": "stream",
          "name": "stdout",
          "text": [
            "250 jogos coletados da IGDB.\n"
          ]
        }
      ],
      "source": [
        "query = 'fields name,genres.name,rating,total_rating_count,websites.category,websites.url; where platforms = (6) & total_rating_count > 100; sort total_rating_count desc; limit 250;'\n",
        "resp_games = requests.post('https://api.igdb.com/v4/games', headers=headers_igdb, data=query)\n",
        "jogos_raw = resp_games.json()\n",
        "print(f\"{len(jogos_raw)} jogos coletados da IGDB.\")"
      ]
    },
    {
      "cell_type": "markdown",
      "source": [
        "Para conectar os dados da IGDB com os da Steam, precisamos extrair o ID de cada jogo na plataforma da Steam. Criamos uma função para analisar a lista de websites de cada jogo e encontrar a URL da loja Steam (categoria 13), extraindo o ID numérico dela."
      ],
      "metadata": {
        "id": "hdiwpsDS1Bxk"
      }
    },
    {
      "cell_type": "code",
      "execution_count": null,
      "metadata": {
        "id": "yO9T0GGmjJ5t"
      },
      "outputs": [],
      "source": [
        "def get_steam_app_id(websites):\n",
        "    \"\"\"\n",
        "    Extrai o steam_app_id de uma lista de websites retornada pela API do IGDB.\n",
        "    \"\"\"\n",
        "    if not isinstance(websites, list):\n",
        "        return None\n",
        "    for site in websites:\n",
        "        # Categoria 13 é a da Steam\n",
        "        if site.get('category') == 13:\n",
        "            url = site.get('url', '')\n",
        "            parts = url.split('/app/')\n",
        "            if len(parts) > 1:\n",
        "                app_id_str = parts[1].split('/')[0]\n",
        "                if app_id_str.isdigit():\n",
        "                    return app_id_str\n",
        "    return None"
      ]
    },
    {
      "cell_type": "code",
      "execution_count": null,
      "metadata": {
        "colab": {
          "base_uri": "https://localhost:8080/"
        },
        "id": "bughYUs1jJ5t",
        "outputId": "6d13a373-da44-4163-fa47-26bec5e621f3"
      },
      "outputs": [
        {
          "output_type": "stream",
          "name": "stdout",
          "text": [
            "215 jogos restantes após filtrar por aqueles com link para a Steam.\n"
          ]
        }
      ],
      "source": [
        "df_igdb = pd.DataFrame(jogos_raw)\n",
        "df_igdb['steam_app_id'] = df_igdb['websites'].apply(get_steam_app_id)\n",
        "df_igdb = df_igdb.dropna(subset=['steam_app_id'])\n",
        "df_igdb_clean = df_igdb[['id', 'name', 'rating', 'genres', 'steam_app_id']].copy()\n",
        "df_igdb_clean.columns = ['igdb_id', 'name', 'avg_igdb_rating', 'genres', 'steam_app_id']\n",
        "print(f\"{len(df_igdb_clean)} jogos restantes após filtrar por aqueles com link para a Steam.\")"
      ]
    },
    {
      "cell_type": "markdown",
      "source": [
        "Agora, usamos os IDs da Steam para coletar avaliações de usuários diretamente da API da Steam. Para cada jogo, buscamos até 100 avaliações recentes. Mapeamos as avaliações \"Recomendado\" para 1 e \"Não Recomendado\" para -1, um formato adequado para o modelo SVD."
      ],
      "metadata": {
        "id": "_y1YyA-P1IeD"
      }
    },
    {
      "cell_type": "code",
      "execution_count": null,
      "metadata": {
        "colab": {
          "base_uri": "https://localhost:8080/"
        },
        "id": "IZrGCcFujJ5t",
        "outputId": "9b04d130-f711-4ac5-d4eb-226c06b370a1"
      },
      "outputs": [
        {
          "output_type": "stream",
          "name": "stdout",
          "text": [
            "Coletando avaliações da Steam para 215 jogos...\n",
            "Total de 21259 avaliações coletadas da Steam.\n"
          ]
        }
      ],
      "source": [
        "records = []\n",
        "app_ids_to_fetch = df_igdb_clean['steam_app_id'].dropna().unique()\n",
        "\n",
        "print(f\"Coletando avaliações da Steam para {len(app_ids_to_fetch)} jogos...\")\n",
        "for app_id in app_ids_to_fetch:\n",
        "    try:\n",
        "        url = f\"https://store.steampowered.com/appreviews/{app_id}\"\n",
        "        params = {'json': 1, 'num_per_page': 100, 'language': 'all', 'filter': 'recent'}\n",
        "        r = requests.get(url, params=params)\n",
        "        r.raise_for_status()\n",
        "        data = r.json()\n",
        "        if data.get('success') and data.get('reviews'):\n",
        "            for review in data['reviews']:\n",
        "                rating = 1 if review.get('voted_up', False) else -1\n",
        "                records.append({\n",
        "                    'user_id': review['author']['steamid'],\n",
        "                    'steam_app_id': app_id,\n",
        "                    'rating': rating,\n",
        "                    'recommended': review.get('voted_up', False)\n",
        "                })\n",
        "    except requests.exceptions.RequestException as e:\n",
        "        pass\n",
        "\n",
        "if not records:\n",
        "    print(\"Nenhuma avaliação da Steam foi coletada. Encerrando.\")\n",
        "    exit()\n",
        "\n",
        "df_steam = pd.DataFrame(records)\n",
        "print(f\"Total de {len(df_steam)} avaliações coletadas da Steam.\")"
      ]
    },
    {
      "cell_type": "markdown",
      "source": [
        "#### 4.2. Implementação da Filtragem Colaborativa (SVD)"
      ],
      "metadata": {
        "id": "NBfe0l6c21-O"
      }
    },
    {
      "cell_type": "markdown",
      "source": [
        "Para preparar os dados para o SVD, precisamos converter os IDs de usuário e jogo para índices numéricos contínuos (de 0 a N-1), que servirão como coordenadas na nossa matriz de utilidade."
      ],
      "metadata": {
        "id": "4-bjKrcb3Rtc"
      }
    },
    {
      "cell_type": "code",
      "source": [
        "# Mapear IDs de usuário e de jogo para índices de matriz\n",
        "user_ids = df_steam['user_id'].unique()\n",
        "app_ids = df_steam['steam_app_id'].unique()\n",
        "user_map = {uid: i for i, uid in enumerate(user_ids)}\n",
        "app_map = {aid: i for i, aid in enumerate(app_ids)}\n",
        "app_inv_map = {i: aid for aid, i in app_map.items()} # Mapa inverso para encontrar o ID a partir do índice\n",
        "\n",
        "df_steam['user_idx'] = df_steam['user_id'].map(user_map)\n",
        "df_steam['app_idx'] = df_steam['steam_app_id'].map(app_map)"
      ],
      "metadata": {
        "id": "2Vp43DX93SEg"
      },
      "execution_count": null,
      "outputs": []
    },
    {
      "cell_type": "markdown",
      "source": [
        "Dividimos nosso conjunto de dados em treino (80%) e teste (20%). É crucial que essa divisão seja feita sobre as interações (avaliações), e não sobre os usuários ou jogos, para simular um cenário real onde queremos prever avaliações desconhecidas."
      ],
      "metadata": {
        "id": "RScmkmfr3UlC"
      }
    },
    {
      "cell_type": "code",
      "source": [
        "# Divisão treino/teste\n",
        "train_indices = np.random.choice(df_steam.index, size=int(0.8 * len(df_steam)), replace=False)\n",
        "test_indices = df_steam.index.difference(train_indices)\n",
        "train_data = df_steam.loc[train_indices]\n",
        "test_data = df_steam.loc[test_indices]\n",
        "\n",
        "print(f\"Tamanho do conjunto de treino: {len(train_data)} avaliações\")\n",
        "print(f\"Tamanho do conjunto de teste: {len(test_data)} avaliações\")"
      ],
      "metadata": {
        "colab": {
          "base_uri": "https://localhost:8080/"
        },
        "id": "D_gkTCMM3TTN",
        "outputId": "91b4e722-be8d-42b8-9662-ac8b9978ece8"
      },
      "execution_count": null,
      "outputs": [
        {
          "output_type": "stream",
          "name": "stdout",
          "text": [
            "Tamanho do conjunto de treino: 17007 avaliações\n",
            "Tamanho do conjunto de teste: 4252 avaliações\n"
          ]
        }
      ]
    },
    {
      "cell_type": "markdown",
      "source": [
        "Agora, construímos a matriz de utilidade $A$ (aqui chamada `R_train`) a partir dos dados de treino. Usamos `csc_matrix` do SciPy, que é um formato eficiente para matrizes esparsas, economizando memória."
      ],
      "metadata": {
        "id": "ZY64ROmY3XO3"
      }
    },
    {
      "cell_type": "code",
      "source": [
        "R_train = csc_matrix((train_data['rating'], (train_data['user_idx'], train_data['app_idx'])),\n",
        "                     shape=(len(user_ids), len(app_ids)),\n",
        "                     dtype=np.float64)"
      ],
      "metadata": {
        "id": "9NL8qSaU3V9K"
      },
      "execution_count": null,
      "outputs": []
    },
    {
      "cell_type": "markdown",
      "source": [
        "Este é o núcleo da filtragem colaborativa. Aplicamos a Decomposição de Valores Singulares (`svds` do SciPy, otimizada para matrizes esparsas) na nossa matriz de treino. Escolhemos `k=50` fatores latentes, um hiperparâmetro que representa a complexidade do nosso modelo. O resultado são as três matrizes: $U$ (fatores latentes dos usuários), $\\Sigma$ (a importância de cada fator) e $V^T$ (fatores latentes dos itens). Ao multiplicá-las (`U @ sigma_diag @ Vt`), obtemos a matriz `R_est`, que é a nossa matriz de utilidade reconstruída e preenchida com as predições de rating."
      ],
      "metadata": {
        "id": "5PRl1C343aI3"
      }
    },
    {
      "cell_type": "code",
      "source": [
        "# Aplicar SVD\n",
        "k = 50\n",
        "U, sigma, Vt = svds(R_train, k=k)\n",
        "sigma_diag = np.diag(sigma)\n",
        "\n",
        "# Reconstruir a matriz de predições\n",
        "R_est = U @ sigma_diag @ Vt\n",
        "print(f\"Matriz de predições reconstruída com shape: {R_est.shape}\")"
      ],
      "metadata": {
        "colab": {
          "base_uri": "https://localhost:8080/"
        },
        "id": "XTzBy8pn3Yrc",
        "outputId": "1ea00d0a-56c8-44ba-ebac-e36c59181198"
      },
      "execution_count": null,
      "outputs": [
        {
          "output_type": "stream",
          "name": "stdout",
          "text": [
            "Matriz de predições reconstruída com shape: (19976, 215)\n"
          ]
        }
      ]
    },
    {
      "cell_type": "markdown",
      "source": [
        "Para avaliar a qualidade do nosso modelo SVD, calculamos o **RMSE (Root Mean Squared Error)**. Essa métrica mede a diferença média entre os ratings preditos pelo modelo (`R_est`) e os ratings reais que separamos no conjunto de teste. Um RMSE menor indica um modelo mais preciso."
      ],
      "metadata": {
        "id": "Yxk3262W3c_B"
      }
    },
    {
      "cell_type": "code",
      "source": [
        "def get_predictions(R_pred, data):\n",
        "    y_true, y_pred = [], []\n",
        "    for _, row in data.iterrows():\n",
        "        user_idx, app_idx = row['user_idx'], row['app_idx']\n",
        "        if user_idx < R_pred.shape[0] and app_idx < R_pred.shape[1]:\n",
        "            y_true.append(row['rating'])\n",
        "            y_pred.append(R_pred[user_idx, app_idx])\n",
        "    return y_true, y_pred\n",
        "\n",
        "y_true, y_pred = get_predictions(R_est, test_data)\n",
        "if y_true:\n",
        "    rmse = np.sqrt(mean_squared_error(y_true, y_pred))\n",
        "    print(f\"RMSE do modelo SVD: {rmse:.4f}\")\n",
        "else:\n",
        "    print(\"Não foi possível calcular o RMSE (conjunto de teste vazio).\")"
      ],
      "metadata": {
        "colab": {
          "base_uri": "https://localhost:8080/"
        },
        "id": "ZvZTrLoR3b7B",
        "outputId": "c662b4bd-0402-45af-87b7-e51e822da210"
      },
      "execution_count": null,
      "outputs": [
        {
          "output_type": "stream",
          "name": "stdout",
          "text": [
            "RMSE do modelo SVD: 0.9949\n"
          ]
        }
      ]
    },
    {
      "cell_type": "markdown",
      "source": [
        "#### 4.3. Implementação da Filtragem Baseada em Conteúdo"
      ],
      "metadata": {
        "id": "VSSLaMyM3fVm"
      }
    },
    {
      "cell_type": "markdown",
      "source": [
        "Agora, mudamos para a abordagem baseada em conteúdo. O primeiro passo é criar um DataFrame unificado (`df_final`) que contenha todas as informações relevantes dos jogos (metadados da IGDB e métricas da Steam)."
      ],
      "metadata": {
        "id": "uR8JJ2C13hGi"
      }
    },
    {
      "cell_type": "code",
      "source": [
        "# Calcular métricas da Steam (taxa de aprovação e contagem de reviews)\n",
        "steam_metrics = df_steam.groupby('steam_app_id').agg(\n",
        "    approval_rate=('recommended', 'mean'),\n",
        "    review_count=('recommended', 'size')\n",
        ").reset_index()\n",
        "\n",
        "# Juntar os dados da IGDB com as métricas da Steam\n",
        "df_final = df_igdb_clean.merge(steam_metrics, on='steam_app_id', how='left')\n",
        "df_final['approval_rate'] = df_final['approval_rate'].fillna(0)\n",
        "df_final['review_count'] = df_final['review_count'].fillna(0)"
      ],
      "metadata": {
        "id": "JsvOKovO3eSN"
      },
      "execution_count": null,
      "outputs": []
    },
    {
      "cell_type": "code",
      "source": [
        "# Lidar com valores 'NaN' ou ausentes na coluna de gêneros\n",
        "df_final['genres'] = df_final['genres'].apply(lambda x: x if isinstance(x, list) else [])\n",
        "\n",
        "# Função para extrair e limpar os nomes dos gêneros\n",
        "def extrair_nomes_generos(lista_generos):\n",
        "    if not lista_generos:\n",
        "        return \"\"\n",
        "    return \" \".join([gen['name'].replace(\" \", \"\") for gen in lista_generos])\n",
        "\n",
        "# Criar a coluna de gêneros limpa e a \"sopa de características\"\n",
        "df_final['genres_clean'] = df_final['genres'].apply(extrair_nomes_generos)\n",
        "df_final['sopa_features'] = df_final['name'].str.lower() + \" \" + df_final['genres_clean'].str.lower()"
      ],
      "metadata": {
        "id": "nBekEY-k3ibf"
      },
      "execution_count": null,
      "outputs": []
    },
    {
      "cell_type": "code",
      "source": [
        "# Vetorização e Cálculo de Similaridade\n",
        "tfidf = TfidfVectorizer(stop_words='english')\n",
        "tfidf_matrix = tfidf.fit_transform(df_final['sopa_features'])\n",
        "cosine_sim = cosine_similarity(tfidf_matrix, tfidf_matrix)\n",
        "\n",
        "# Mapeamento de nomes de jogos para seus índices no DataFrame\n",
        "indices_map = pd.Series(df_final.index, index=df_final['name']).drop_duplicates()\n",
        "print(\"Matriz de similaridade de cossenos construída com sucesso.\")"
      ],
      "metadata": {
        "colab": {
          "base_uri": "https://localhost:8080/"
        },
        "id": "Or-yWMVj3lKk",
        "outputId": "c962da65-ae27-4e03-fe5e-0d3ff4f4b16b"
      },
      "execution_count": null,
      "outputs": [
        {
          "output_type": "stream",
          "name": "stdout",
          "text": [
            "Matriz de similaridade de cossenos construída com sucesso.\n"
          ]
        }
      ]
    },
    {
      "cell_type": "markdown",
      "source": [
        "#### 4.4. Função de Recomendação Unificada"
      ],
      "metadata": {
        "id": "L36ViMHf3oRv"
      }
    },
    {
      "cell_type": "markdown",
      "source": [
        "Finalmente, para amarrar todas as partes do projeto, criamos uma função \"mestre\" chamada `obter_recomendacoes`. Esta função é a interface final do nosso sistema e decide qual estratégia de recomendação usar com base nos parâmetros fornecidos:\n",
        "\n",
        "1.  **Recomendação por Conteúdo:** Se um `titulo_jogo` é fornecido, a função usa a matriz `cosine_sim` para encontrar os jogos mais similares.\n",
        "2.  **Recomendação Personalizada (SVD):** Se um `user_id` conhecido é fornecido, a função usa a matriz de predições `R_est` para encontrar os jogos que o modelo SVD prevê que aquele usuário mais gostaria (e que ele ainda não avaliou).\n",
        "3.  **Recomendação por Popularidade (*Cold Start*):** Se nenhum parâmetro (ou um `user_id` desconhecido) é fornecido, a função recorre a uma lista de jogos de \"alto consenso\", que são os mais bem avaliados tanto na IGDB quanto na Steam. Esta é a nossa solução para o problema de *cold start* de novos usuários.\n"
      ],
      "metadata": {
        "id": "wJVP0LYS3qQg"
      }
    },
    {
      "cell_type": "code",
      "source": [
        "def obter_recomendacoes(user_id=None, titulo_jogo=None, num_recs=5):\n",
        "    \"\"\"\n",
        "    Função mestre de recomendação.\n",
        "    - Se 'titulo_jogo' é fornecido, retorna recomendações baseadas em conteúdo.\n",
        "    - Se 'user_id' é fornecido, retorna recomendações personalizadas (SVD).\n",
        "    - Se nenhum é fornecido, retorna recomendações de popularidade (cold start).\n",
        "    \"\"\"\n",
        "    # --- Estratégia 1: Recomendação por Conteúdo ---\n",
        "    if titulo_jogo:\n",
        "        if titulo_jogo not in indices_map:\n",
        "            print(f\"\\nErro: O jogo '{titulo_jogo}' não foi encontrado em nossa base de dados.\")\n",
        "            return\n",
        "\n",
        "        print(f\"\\n--- Recomendações baseadas em similaridade com '{titulo_jogo}' ---\")\n",
        "        idx = indices_map[titulo_jogo]\n",
        "        sim_scores = list(enumerate(cosine_sim[idx]))\n",
        "        sim_scores = sorted(sim_scores, key=lambda x: x[1], reverse=True)\n",
        "        sim_scores = sim_scores[1:num_recs+1]\n",
        "        game_indices = [i[0] for i in sim_scores]\n",
        "        recomendacoes = df_final['name'].iloc[game_indices]\n",
        "        for i, rec in enumerate(recomendacoes):\n",
        "            print(f\"{i+1}. {rec}\")\n",
        "        return\n",
        "\n",
        "    # --- Estratégia 2: Recomendação Personalizada (SVD) ---\n",
        "    if user_id and user_id in user_map:\n",
        "        print(f\"\\n--- Recomendações personalizadas para o usuário {user_id} ---\")\n",
        "        user_idx = user_map[user_id]\n",
        "        user_ratings = R_est[user_idx, :]\n",
        "\n",
        "        # Ordenar os jogos pela predição de rating\n",
        "        sorted_indices = np.argsort(user_ratings)[::-1]\n",
        "\n",
        "        # Filtrar jogos que o usuário já avaliou\n",
        "        jogos_avaliados_idx = train_data[train_data['user_id'] == user_id]['app_idx'].values\n",
        "        recomendacoes_idx = [idx for idx in sorted_indices if idx not in jogos_avaliados_idx]\n",
        "\n",
        "        # Pegar os top N jogos e converter de volta para nome\n",
        "        count = 0\n",
        "        for idx in recomendacoes_idx:\n",
        "            if count >= num_recs:\n",
        "                break\n",
        "            steam_app_id = app_inv_map.get(idx)\n",
        "            if steam_app_id:\n",
        "                nome_jogo = df_final[df_final['steam_app_id'] == steam_app_id]['name'].values\n",
        "                if len(nome_jogo) > 0:\n",
        "                    print(f\"{count+1}. {nome_jogo[0]}\")\n",
        "                    count += 1\n",
        "        return\n",
        "\n",
        "    # --- Estratégia 3: Recomendação por Popularidade (Cold Start) ---\n",
        "    print(\"\\n--- Recomendações para novos usuários (jogos mais populares) ---\")\n",
        "    top_hybrid = df_final[\n",
        "        (df_final['avg_igdb_rating'] > 85) &\n",
        "        (df_final['approval_rate'] > 0.95) &\n",
        "        (df_final['review_count'] > 50)\n",
        "    ].sort_values(by=['approval_rate', 'avg_igdb_rating'], ascending=False)\n",
        "\n",
        "    for i, row in top_hybrid.head(num_recs).iterrows():\n",
        "        print(f\"{i+1}. {row['name']} (Nota IGDB: {row['avg_igdb_rating']:.1f}, Aprovação Steam: {row['approval_rate']:.0%})\")\n",
        "    return"
      ],
      "metadata": {
        "id": "1d9ut0Ip3m-K"
      },
      "execution_count": null,
      "outputs": []
    },
    {
      "cell_type": "markdown",
      "source": [
        "#### 4.5. Exemplos de Uso"
      ],
      "metadata": {
        "id": "d0aCDyp73tw1"
      }
    },
    {
      "cell_type": "code",
      "source": [
        "# Exemplo 1: Recomendação para um novo usuário (ou usuário desconhecido)\n",
        "obter_recomendacoes()"
      ],
      "metadata": {
        "colab": {
          "base_uri": "https://localhost:8080/"
        },
        "id": "Y3DK2qdD3sZC",
        "outputId": "4f280be2-7906-4152-ea53-3abb6ee5012a"
      },
      "execution_count": null,
      "outputs": [
        {
          "output_type": "stream",
          "name": "stdout",
          "text": [
            "\n",
            "--- Recomendações para novos usuários (jogos mais populares) ---\n",
            "3. Portal 2 (Nota IGDB: 91.6, Aprovação Steam: 100%)\n",
            "131. Death Stranding (Nota IGDB: 86.3, Aprovação Steam: 99%)\n",
            "7. Half-Life 2 (Nota IGDB: 90.5, Aprovação Steam: 98%)\n",
            "62. Resident Evil 2 (Nota IGDB: 87.6, Aprovação Steam: 98%)\n",
            "33. Undertale (Nota IGDB: 86.2, Aprovação Steam: 98%)\n"
          ]
        }
      ]
    },
    {
      "cell_type": "code",
      "source": [
        "# Exemplo 2: Encontrar jogos similares a 'The Witcher 3: Wild Hunt'\n",
        "# Nota: O jogo precisa estar na nossa base de dados para funcionar.\n",
        "if 'The Witcher 3: Wild Hunt' in indices_map:\n",
        "    obter_recomendacoes(titulo_jogo='The Witcher 3: Wild Hunt', num_recs=3)\n",
        "else:\n",
        "    print(\"\\n'The Witcher 3: Wild Hunt' não foi encontrado na base de dados coletada para este exemplo.\")"
      ],
      "metadata": {
        "colab": {
          "base_uri": "https://localhost:8080/"
        },
        "id": "TcW94KkF3vJL",
        "outputId": "56305ea2-492e-4708-cf12-d12c7b0b78cf"
      },
      "execution_count": null,
      "outputs": [
        {
          "output_type": "stream",
          "name": "stdout",
          "text": [
            "\n",
            "--- Recomendações baseadas em similaridade com 'The Witcher 3: Wild Hunt' ---\n",
            "1. The Witcher 3: Wild Hunt - Hearts of Stone\n",
            "2. The Witcher\n",
            "3. The Witcher 2: Assassins of Kings\n"
          ]
        }
      ]
    },
    {
      "cell_type": "code",
      "source": [
        "# Exemplo 3: Recomendação personalizada para um usuário existente\n",
        "# Pegamos um usuário aleatório do nosso conjunto de dados para simular\n",
        "if 'df_steam' in locals() and not df_steam.empty:\n",
        "    random_user_id = df_steam['user_id'].sample(1).iloc[0]\n",
        "    obter_recomendacoes(user_id=random_user_id, num_recs=5)"
      ],
      "metadata": {
        "colab": {
          "base_uri": "https://localhost:8080/"
        },
        "id": "pyZ1YAUc3w6g",
        "outputId": "bfb72e9f-e906-4c83-eb87-52dba8e8a7a3"
      },
      "execution_count": null,
      "outputs": [
        {
          "output_type": "stream",
          "name": "stdout",
          "text": [
            "\n",
            "--- Recomendações personalizadas para o usuário 76561198333471170 ---\n",
            "1. Little Nightmares\n",
            "2. Assassin's Creed III\n",
            "3. Half-Life\n",
            "4. BioShock 2\n",
            "5. Dragon Age II\n"
          ]
        }
      ]
    }
  ],
  "metadata": {
    "kernelspec": {
      "display_name": "Python 3 (ipykernel)",
      "language": "python",
      "name": "python3"
    },
    "language_info": {
      "codemirror_mode": {
        "name": "ipython",
        "version": 3
      },
      "file_extension": ".py",
      "mimetype": "text/x-python",
      "name": "python",
      "nbconvert_exporter": "python",
      "pygments_lexer": "ipython3",
      "version": "3.12.7"
    },
    "colab": {
      "provenance": []
    }
  },
  "nbformat": 4,
  "nbformat_minor": 0
}